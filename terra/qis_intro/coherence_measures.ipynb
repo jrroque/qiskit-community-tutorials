{
 "cells": [
  {
   "cell_type": "markdown",
   "metadata": {},
   "source": [
    "# Quantum Coherence"
   ]
  },
  {
   "cell_type": "markdown",
   "metadata": {},
   "source": [
    "This notebook will introduce the concept of quantum coherence as a resource, giving a few examples of metrics and simple applications."
   ]
  },
  {
   "cell_type": "code",
   "execution_count": 193,
   "metadata": {},
   "outputs": [
    {
     "name": "stderr",
     "output_type": "stream",
     "text": [
      "ibmqfactory.load_account:WARNING:2020-08-14 17:14:28,683: Credentials are already in use. The existing account in the session will be replaced.\n"
     ]
    }
   ],
   "source": [
    "# importing qiskit\n",
    "from qiskit import IBMQ, BasicAer\n",
    "from qiskit import QuantumCircuit, ClassicalRegister, QuantumRegister, execute\n",
    "from qiskit.compiler import transpile\n",
    "from qiskit.tools.monitor import job_monitor\n",
    "\n",
    "# import basic plot tools\n",
    "from qiskit.tools.visualization import plot_histogram\n",
    "# importing other tools\n",
    "import numpy as np\n",
    "import matplotlib.pyplot as plt\n",
    "\n",
    "from qiskit.providers.aer.noise import NoiseModel\n",
    "from qiskit.circuit.random import random_circuit\n",
    "\n",
    "# Tomography functions\n",
    "from qiskit.ignis.verification.tomography import state_tomography_circuits, StateTomographyFitter\n",
    "\n",
    "\n",
    "# Other utilities\n",
    "\n",
    "\n",
    "provider = IBMQ.load_account()\n",
    "%matplotlib inline\n"
   ]
  },
  {
   "cell_type": "markdown",
   "metadata": {},
   "source": [
    "## Coherence"
   ]
  },
  {
   "cell_type": "markdown",
   "metadata": {},
   "source": [
    "Coherence originates from the mathematics of waves, quantifying correlation between properties of a single or multiple wave functions. This correlation manifests as constructive or destructive interference when waves are temporally or spatially superposed. As an example, one can think of a plucked guitar string, where reflections of the generated wave off of the ends of the string constructively interact to form a standing wave that rings at a particular frequency. This is a coherent state.\n",
    "\n",
    "Modern quantum mechanics is rooted in wave theory; we can consider quantum states to be waves. Similar to the above, consider a qubit in the $|0\\rangle$ state. We can \"pluck\" this qubit by applying a unitary operation, say the Hadamard opeation, giving $\\frac{|0\\rangle + |1\\rangle}{\\sqrt2}$, the equal sum of two \"incident waves\" and said to be the maximally coherent state. \n",
    "\n",
    "Now say we have two qubits in the $|01\\rangle$ state. Applying a Hadamard to qubit 0, followed by a controlled-Z operation with qubit 0 as the control and 1 as the target gives $\\frac{|01\\rangle - |11\\rangle}{\\sqrt2}$. Applying a Hadamard to 0 again intermediately creates the superposition of two \"waves\" $\\frac{|01\\rangle + |11\\rangle}{2} - \\frac{|01\\rangle - |11\\rangle}{2}$. These destructively interfere in their $|01\\rangle$ component, leaving only the $|11\\rangle$ state. This is a usual procedure in quantum algorithms; we try to manipulate the interference of the different components to yield solutions to computational problems.\n",
    "\n",
    "As coherence is something we exploit, and is limited in non-ideal cases, recent literature has made attempts at quantifying coherence as a resource in quantum systems, similar to what has been done for entanglement in more established quantum information theory. This effort has developed measures of coherence, a few of which we will give a description."
   ]
  },
  {
   "cell_type": "markdown",
   "metadata": {},
   "source": [
    "### Relative Entropy of Coherence"
   ]
  },
  {
   "cell_type": "markdown",
   "metadata": {},
   "source": [
    "A measure of coherence that is common in literature is the relative entropy of coherence. Defining the dephasing operation $\\Delta[\\rho]$ as the function that returns the diagonal part of the input density matrix, the formula for this measure of coherence is:\n",
    "\n",
    "\\begin{equation*}\n",
    "C_{r}(\\rho) = S(\\Delta[\\rho]) - S(\\rho)\n",
    "\\end{equation*}\n",
    "\n",
    "So we can easily define this from our entropy function in the previous notebook.\n"
   ]
  },
  {
   "cell_type": "code",
   "execution_count": 18,
   "metadata": {},
   "outputs": [],
   "source": [
    "def C_r(state):\n",
    "    return entropy(np.diag(np.diag(state))) - entropy(state)\n",
    "    "
   ]
  },
  {
   "cell_type": "markdown",
   "metadata": {},
   "source": [
    "This is the relative entropy between the fully incoherent version of the matrix and itself, which is something like seeing the effect of the off diagonal elements on the information content. For a pure state, the second term disappears by definition of von Neumann entropy. On the other hand, if the state is fully decohered (diagonal), this difference will be zero. So there is an intuitive aspect to this formula, as we know that the usual T2 coherence time is associated with the off-diagonal elements of a state's density matrix. We also get the convenient property of being additive under tensor products:\n",
    "\n",
    "\\begin{equation*}\n",
    "C_{r}(\\rho \\otimes \\sigma) = C_{r}(\\rho) + C_{r}(\\sigma)\n",
    "\\end{equation*}\n",
    "\n",
    "This gives a useful quantifier; for example, say we Hadamard a whole n-qubit register, obtaining the maximally coherent state for its Hilbert space. This state is separable, therefore from the properties above we have:\n",
    "\n",
    "\\begin{equation*}\n",
    "C_{r}(\\bigotimes_{i=0}^{n-1} \\rho_{i}) = \\sum_{i}^{n-1} C_{r}(\\rho_{i}) = \\sum_{i=0}^{n-1} 1 = n\n",
    "\\end{equation*}"
   ]
  },
  {
   "cell_type": "markdown",
   "metadata": {},
   "source": [
    "We can interpret this as the maximally coherent state of a qubit sets the benchmark for one fully coherent bit (sometimes called cobit) of information."
   ]
  },
  {
   "cell_type": "markdown",
   "metadata": {},
   "source": [
    "### L1-Norm of Coherence"
   ]
  },
  {
   "cell_type": "markdown",
   "metadata": {},
   "source": [
    "Another quantifier of coherence is the l1-norm of coherence. This has a simpler formula than relative entropy of coherence:\n",
    "\n",
    "\\begin{equation*}\n",
    "C_{l1}(\\rho) = \\sum_{i \\neq j} |\\rho_{ij}|\n",
    "\\end{equation*}"
   ]
  },
  {
   "cell_type": "markdown",
   "metadata": {},
   "source": [
    "which is the sum of the absolute values of all of the off-diagonal elements, retaining the intuition regarding how decoherence occurs, and being easier to compute. "
   ]
  },
  {
   "cell_type": "code",
   "execution_count": 1,
   "metadata": {},
   "outputs": [],
   "source": [
    "def C_l1(state):\n",
    "    abs_state = np.abs(state)\n",
    "    return np.sum(abs_state) - np.trace(abs_state) "
   ]
  },
  {
   "cell_type": "markdown",
   "metadata": {},
   "source": [
    "This value obviously does not have the cobit interpretation, but has a similarly useful one. As the L1 norm of coherence is bounded above by $2^{n} - 1$, we can say that it gives roughly how much of the Hilbert space are in superposition, having a more fine grained value. We can compare the maximum values between this and the relative entropy of coherence for increasing system size."
   ]
  },
  {
   "cell_type": "code",
   "execution_count": 66,
   "metadata": {},
   "outputs": [],
   "source": [
    "relative = []\n",
    "l1 = []\n",
    "n = 10\n",
    "nqubits = [i+1 for i in range(n)]\n",
    "\n",
    "for i in nqubits:\n",
    "    \n",
    "    q = QuantumRegister(i)\n",
    "    circ = QuantumCircuit(q)\n",
    "    \n",
    "    circ.h([j for j in range(len(q))])\n",
    "\n",
    "    job = qiskit.execute(circ, Aer.get_backend('statevector_simulator'))\n",
    "    psi = job.result().get_statevector(circ)\n",
    "    psi.shape = (2**circ.num_qubits,1)\n",
    "    rho = psi.dot(psi.conj().T)\n",
    "        \n",
    "    relative += [C_r(rho)]\n",
    "    l1 += [C_l1(rho)]\n",
    "\n",
    "    "
   ]
  },
  {
   "cell_type": "code",
   "execution_count": 87,
   "metadata": {},
   "outputs": [
    {
     "data": {
      "image/png": "[encoded data removed]",
      "text/plain": [
       "<Figure size 1080x360 with 2 Axes>"
      ]
     },
     "metadata": {
      "needs_background": "light"
     },
     "output_type": "display_data"
    }
   ],
   "source": [
    "coherences = [relative,l1]\n",
    "fig, axes = plt.subplots(ncols=2,nrows=1,figsize=(15,5))\n",
    "\n",
    "for i in range(len(coherences)):\n",
    "    axplt = axes[i]\n",
    "    if i == 0:\n",
    "        axplt.plot(qubits,coherences[i],label='C_r')\n",
    "    else:\n",
    "        axes[i].plot(qubits,coherences[i],label='C_l1')\n",
    "    \n",
    "    axplt.set_xlabel('Number of Qubits')\n",
    "    axplt.set_ylabel('Coherence')\n",
    "    axplt.legend()\n",
    "    "
   ]
  },
  {
   "cell_type": "markdown",
   "metadata": {},
   "source": [
    "Looking at the plots, the relative entropy of coherence has a more straight-forward interpretation. Also, in terms of how these might be computed at scale, exponential values of from the l1-norm may be excessive."
   ]
  },
  {
   "cell_type": "markdown",
   "metadata": {},
   "source": [
    "### Simulation of a Real Device"
   ]
  },
  {
   "cell_type": "markdown",
   "metadata": {},
   "source": [
    "Since we have quantifiers of quantum coherence, a fun exercise would be to compare the degradation of these values with circuit depth on a simulated device, and comparing to the actual coherence times. Let's bring in a noise model based off of the Vigo machine."
   ]
  },
  {
   "cell_type": "code",
   "execution_count": 88,
   "metadata": {},
   "outputs": [],
   "source": [
    "# Build noise model from backend properties\n",
    "\n",
    "backend = provider.get_backend('ibmq_vigo')\n",
    "noise_model = NoiseModel.from_backend(backend)\n",
    "\n",
    "# Get coupling map from backend\n",
    "coupling_map = backend.configuration().coupling_map\n",
    "\n",
    "# Get basis gates from noise model\n",
    "basis_gates = noise_model.basis_gates\n",
    "\n",
    "nqubits = len(backend.properties()._qubits)\n"
   ]
  },
  {
   "cell_type": "markdown",
   "metadata": {},
   "source": [
    "Next, we'll generate circuits that Hadamard each qubit individually, apply a varying number of identity gates, and perform tomography measurements. For simplicity, we'll only use relative entropy of coherence as our measure, since we'll only have single qubit density matrices."
   ]
  },
  {
   "cell_type": "code",
   "execution_count": 92,
   "metadata": {},
   "outputs": [],
   "source": [
    "result_matrices = []\n",
    "\n",
    "depths = [1,5,10,50,100,500]\n",
    "results = {zz}\n",
    "for q in range(nqubits):\n",
    "    results[q] = []\n",
    "    \n",
    "\n",
    "for i in range(nqubits):\n",
    "    for depth in depths:\n",
    "        \n",
    "        circ = QuantumCircuit(nqubits,nqubits)\n",
    "\n",
    "        circ.h(i)\n",
    "        for _ in range(depth): \n",
    "            circ.i(i)\n",
    "            circ.barrier()\n",
    "  \n",
    "\n",
    "        # Generate the state tomography circuits.\n",
    "        qst_qc = state_tomography_circuits(circ,circ.qubits[i])\n",
    "        job = qiskit.execute(qst_qc, Aer.get_backend('qasm_simulator'),shots=8192\n",
    "                            ,coupling_map=coupling_map\n",
    "                            ,basis_gates=basis_gates\n",
    "                            ,noise_model=noise_model\n",
    "                    )\n",
    "\n",
    "        tomo_qc = StateTomographyFitter(job.result(), qst_qc)\n",
    "        rho = tomo_qc.fit()\n",
    "        results[i] += [C_r(rho)]\n",
    "\n"
   ]
  },
  {
   "cell_type": "code",
   "execution_count": 98,
   "metadata": {},
   "outputs": [
    {
     "data": {
      "text/plain": [
       "<matplotlib.legend.Legend at 0x1e8e272b808>"
      ]
     },
     "execution_count": 98,
     "metadata": {},
     "output_type": "execute_result"
    },
    {
     "data": {
      "image/png": "[encoded data removed]",
      "text/plain": [
       "<Figure size 432x288 with 1 Axes>"
      ]
     },
     "metadata": {
      "needs_background": "light"
     },
     "output_type": "display_data"
    }
   ],
   "source": [
    "for i in range(nqubits):\n",
    "    plt.plot(depths,results[i],label='Qubit' + str(i))\n",
    "plt.xlabel('Depth')\n",
    "plt.ylabel('Coherence')\n",
    "plt.legend()"
   ]
  },
  {
   "cell_type": "code",
   "execution_count": 102,
   "metadata": {},
   "outputs": [
    {
     "name": "stdout",
     "output_type": "stream",
     "text": [
      "Qubit0 T2 =  1.3281374697173205e-05\n",
      "Qubit1 T2 =  4.735013720269316e-05\n",
      "Qubit2 T2 =  0.00012324151451574772\n",
      "Qubit3 T2 =  0.00014637737248114537\n",
      "Qubit4 T2 =  2.4590636341228415e-05\n"
     ]
    }
   ],
   "source": [
    "T2 = []\n",
    "\n",
    "for i in range(nqubits):\n",
    "    T2 += [backend.properties()._qubits[i]['T2'][0]]\n",
    "    print('Qubit'+str(i)+' T2 = ', T2[i])\n"
   ]
  },
  {
   "cell_type": "markdown",
   "metadata": {},
   "source": [
    "The model is a little off when considering this metric, however it generally shows that qubits 1, 2, and 3 perform better than 0 and 4. Qubit 4 seems to be on track to reaching full decoherence with a bit longer depth. With a quick calculation, we can get an estimate of the T2 time based on the id gate length information for the qubit."
   ]
  },
  {
   "cell_type": "code",
   "execution_count": 148,
   "metadata": {},
   "outputs": [],
   "source": [
    "depth = 600\n",
    "circ = QuantumCircuit(nqubits,nqubits)\n",
    "\n",
    "circ.h(4)\n",
    "for _ in range(depth): \n",
    "    circ.i(4)\n",
    "    circ.barrier()\n",
    "\n",
    "\n",
    "# Generate the state tomography circuits.\n",
    "qst_qc = state_tomography_circuits(circ,circ.qubits[4])\n",
    "job = qiskit.execute(qst_qc, Aer.get_backend('qasm_simulator'),shots=8192\n",
    "                    ,coupling_map=coupling_map\n",
    "                    ,basis_gates=basis_gates\n",
    "                    ,noise_model=noise_model\n",
    "            )\n",
    "\n",
    "tomo_qc = StateTomographyFitter(job.result(), qst_qc)\n",
    "rho = tomo_qc.fit()\n",
    "q4_coherence = C_r(rho)"
   ]
  },
  {
   "cell_type": "code",
   "execution_count": 149,
   "metadata": {},
   "outputs": [
    {
     "data": {
      "text/plain": [
       "0.01536095810602367"
      ]
     },
     "execution_count": 149,
     "metadata": {},
     "output_type": "execute_result"
    }
   ],
   "source": [
    "q4_coherence"
   ]
  },
  {
   "cell_type": "markdown",
   "metadata": {},
   "source": [
    "Close enough to zero, lets pull the id gate length from the properties and multiply by the depth to get an estimate."
   ]
  },
  {
   "cell_type": "code",
   "execution_count": 166,
   "metadata": {},
   "outputs": [
    {
     "data": {
      "text/plain": [
       "2.1333333333333338e-05"
      ]
     },
     "execution_count": 166,
     "metadata": {},
     "output_type": "execute_result"
    }
   ],
   "source": [
    "id4_length = backend.properties().gate_length('id',4)\n",
    "q4_T2_est = id4_length * depth\n",
    "q4_T2_est"
   ]
  },
  {
   "cell_type": "code",
   "execution_count": 167,
   "metadata": {},
   "outputs": [
    {
     "data": {
      "text/plain": [
       "13.246111091618706"
      ]
     },
     "execution_count": 167,
     "metadata": {},
     "output_type": "execute_result"
    }
   ],
   "source": [
    "pcterror = np.abs(T2[4] - q4_T2_est)/T2[4] * 100\n",
    "pcterror"
   ]
  },
  {
   "cell_type": "markdown",
   "metadata": {},
   "source": [
    "Not bad for a very rough estimate based off of the simulator, try it with the various real devices!"
   ]
  },
  {
   "cell_type": "markdown",
   "metadata": {},
   "source": [
    "### Application in quantum algorithms"
   ]
  },
  {
   "cell_type": "code",
   "execution_count": 168,
   "metadata": {
    "jupyter": {
     "source_hidden": true
    }
   },
   "outputs": [],
   "source": [
    "def generateBVcircuit(nQubits,a):\n",
    "    # qubits for querying the oracle and finding the hidden integer\n",
    "    qr = QuantumRegister(nQubits)\n",
    "\n",
    "    circuitName = \"BernsteinVazirani\"\n",
    "    bvCircuit = QuantumCircuit(qr)\n",
    "\n",
    "    # Apply Hadamard gates before querying the oracle\n",
    "    for i in range(nQubits):\n",
    "        bvCircuit.h(qr[i])\n",
    "\n",
    "    # Apply barrier so that it is not optimized by the compiler\n",
    "    bvCircuit.barrier()\n",
    "\n",
    "    # Apply the inner-product oracle\n",
    "    for i in range(nQubits):\n",
    "        if (a & (1 << i)):\n",
    "            bvCircuit.z(qr[i])\n",
    "        else:\n",
    "            bvCircuit.i(qr[i])\n",
    "\n",
    "    # Apply barrier \n",
    "    bvCircuit.barrier()\n",
    "\n",
    "    #Apply Hadamard gates after querying the oracle\n",
    "    for i in range(nQubits):\n",
    "        bvCircuit.h(qr[i])\n",
    "        \n",
    "    return bvCircuit\n",
    "\n",
    "def black_box_u_f(circuit, f_in, f_out, aux, n, exactly_1_3_sat_formula):\n",
    "    \"\"\"Circuit that computes the black-box function from f_in to f_out.\n",
    "\n",
    "    Create a circuit that verifies whether a given exactly-1 3-SAT\n",
    "    formula is satisfied by the input. The exactly-1 version\n",
    "    requires exactly one literal out of every clause to be satisfied.\n",
    "    \"\"\"\n",
    "    num_clauses = len(exactly_1_3_sat_formula)\n",
    "    for (k, clause) in enumerate(exactly_1_3_sat_formula):\n",
    "        # This loop ensures aux[k] is 1 if an odd number of literals\n",
    "        # are true\n",
    "        for literal in clause:\n",
    "            if literal > 0:\n",
    "                circuit.cx(f_in[literal-1], aux[k])\n",
    "            else:\n",
    "                circuit.x(f_in[-literal-1])\n",
    "                circuit.cx(f_in[-literal-1], aux[k])\n",
    "        # Flip aux[k] if all literals are true, using auxiliary qubit\n",
    "        # (ancilla) aux[num_clauses]\n",
    "        circuit.ccx(f_in[0], f_in[1], aux[num_clauses])\n",
    "        circuit.ccx(f_in[2], aux[num_clauses], aux[k])\n",
    "        # Flip back to reverse state of negative literals and ancilla\n",
    "        circuit.ccx(f_in[0], f_in[1], aux[num_clauses])\n",
    "        for literal in clause:\n",
    "            if literal < 0:\n",
    "                circuit.x(f_in[-literal-1])\n",
    "    # The formula is satisfied if and only if all auxiliary qubits\n",
    "    # except aux[num_clauses] are 1\n",
    "    if (num_clauses == 1):\n",
    "        circuit.cx(aux[0], f_out[0])\n",
    "    elif (num_clauses == 2):\n",
    "        circuit.ccx(aux[0], aux[1], f_out[0])\n",
    "    elif (num_clauses == 3):\n",
    "        circuit.ccx(aux[0], aux[1], aux[num_clauses])\n",
    "        circuit.ccx(aux[2], aux[num_clauses], f_out[0])\n",
    "        circuit.ccx(aux[0], aux[1], aux[num_clauses])\n",
    "    else:\n",
    "        raise ValueError('We only allow at most 3 clauses')\n",
    "    # Flip back any auxiliary qubits to make sure state is consistent\n",
    "    # for future executions of this routine; same loop as above.\n",
    "    for (k, clause) in enumerate(exactly_1_3_sat_formula):\n",
    "        for literal in clause:\n",
    "            if literal > 0:\n",
    "                circuit.cx(f_in[literal-1], aux[k])\n",
    "            else:\n",
    "                circuit.x(f_in[-literal-1])\n",
    "                circuit.cx(f_in[-literal-1], aux[k])\n",
    "        circuit.ccx(f_in[0], f_in[1], aux[num_clauses])\n",
    "        circuit.ccx(f_in[2], aux[num_clauses], aux[k])\n",
    "        circuit.ccx(f_in[0], f_in[1], aux[num_clauses])\n",
    "        for literal in clause:\n",
    "            if literal < 0:\n",
    "                circuit.x(f_in[-literal-1])\n",
    "# -- end function\n",
    "\n",
    "def n_controlled_Z(circuit, controls, target):\n",
    "    \"\"\"Implement a Z gate with multiple controls\"\"\"\n",
    "    if (len(controls) > 2):\n",
    "        raise ValueError('The controlled Z with more than 2 ' +\n",
    "                         'controls is not implemented')\n",
    "    elif (len(controls) == 1):\n",
    "        circuit.h(target)\n",
    "        circuit.cx(controls[0], target)\n",
    "        circuit.h(target)\n",
    "    elif (len(controls) == 2):\n",
    "        circuit.h(target)\n",
    "        circuit.ccx(controls[0], controls[1], target)\n",
    "        circuit.h(target)\n",
    "# -- end function\n",
    "\n",
    "def inversion_about_average(circuit, f_in, n):\n",
    "    \"\"\"Apply inversion about the average step of Grover's algorithm.\"\"\"\n",
    "    # Hadamards everywhere\n",
    "    for j in range(n):\n",
    "        circuit.h(f_in[j])\n",
    "    # D matrix: flips the sign of the state |000> only\n",
    "    for j in range(n):\n",
    "        circuit.x(f_in[j])\n",
    "    n_controlled_Z(circuit, [f_in[j] for j in range(n-1)], f_in[n-1])\n",
    "    for j in range(n):\n",
    "        circuit.x(f_in[j])\n",
    "    # Hadamards everywhere again\n",
    "    for j in range(n):\n",
    "        circuit.h(f_in[j])\n",
    "# -- end function\n",
    "\"\"\"\n",
    "Grover search implemented in Qiskit.\n",
    "\n",
    "This module contains the code necessary to run Grover search on 3\n",
    "qubits, both with a simulator and with a real quantum computing\n",
    "device. This code is the companion for the paper\n",
    "\"An introduction to quantum computing, without the physics\",\n",
    "Giacomo Nannicini, https://arxiv.org/abs/1708.03684. \n",
    "\"\"\"\n",
    "\n",
    "def input_state(circuit, f_in, f_out, n):\n",
    "    \"\"\"(n+1)-qubit input state for Grover search.\"\"\"\n",
    "    for j in range(n):\n",
    "        circuit.h(f_in[j])\n",
    "    circuit.x(f_out)\n",
    "    circuit.h(f_out)\n",
    "# -- end function\n",
    "\n",
    "# Make a quantum program for the n-bit Grover search.\n",
    "n = 3\n",
    "\n",
    "def generateGroverCircuit(n):\n",
    "    # Exactly-1 3-SAT formula to be satisfied, in conjunctive\n",
    "    # normal form. We represent literals with integers, positive or\n",
    "    # negative, to indicate a Boolean variable or its negation.\n",
    "    exactly_1_3_sat_formula = [[1, 2, -3], [-1, -2, -3], [-1, 2, 3]]\n",
    "\n",
    "    # Define three quantum registers: 'f_in' is the search space (input\n",
    "    # to the function f), 'f_out' is bit used for the output of function\n",
    "    # f, aux are the auxiliary bits used by f to perform its\n",
    "    # computation.\n",
    "    f_in = QuantumRegister(n)\n",
    "    f_out = QuantumRegister(1)\n",
    "    aux = QuantumRegister(len(exactly_1_3_sat_formula) + 1)\n",
    "\n",
    "    # Define classical register for algorithm result\n",
    "    # ans = ClassicalRegister(n)\n",
    "\n",
    "    # Define quantum circuit with above registers\n",
    "    grover = QuantumCircuit()\n",
    "    grover.add_register(f_in)\n",
    "    grover.add_register(f_out)\n",
    "    grover.add_register(aux)\n",
    "    # grover.add_register(ans)\n",
    "\n",
    "    input_state(grover, f_in, f_out, n)\n",
    "    T = 2\n",
    "    for t in range(T):\n",
    "        # Apply T full iterations\n",
    "        black_box_u_f(grover, f_in, f_out, aux, n, exactly_1_3_sat_formula)\n",
    "        inversion_about_average(grover, f_in, n)\n",
    "        \n",
    "    return grover\n",
    "\n",
    "def generateSimonCircuit(s):\n",
    "    \n",
    "    n = len(s)\n",
    "    # Step 1\n",
    "    # Creating registers\n",
    "    # qubits for querying the oracle and recording its output\n",
    "    qr = QuantumRegister(2*n)\n",
    "    # for recording the measurement on the first register of qr\n",
    "\n",
    "    circuitName = \"Simon\"\n",
    "    simonCircuit = QuantumCircuit(qr)\n",
    "\n",
    "    # Step 2\n",
    "    # Apply Hadamard gates before querying the oracle\n",
    "    for i in range(n):\n",
    "        simonCircuit.h(qr[i])\n",
    "\n",
    "    # Apply barrier to mark the beginning of the blackbox function\n",
    "    simonCircuit.barrier()\n",
    "    \n",
    "    # copy the content of the first register to the second register\n",
    "    for i in range(n):\n",
    "        simonCircuit.cx(qr[i], qr[n+i])\n",
    "\n",
    "    # get the least index j such that s_j is \"1\"\n",
    "    j = -1\n",
    "    for i, c in enumerate(s):\n",
    "        if c == \"1\":\n",
    "            j = i\n",
    "            break\n",
    "\n",
    "    # Creating 1-to-1 or 2-to-1 mapping with the j-th qubit of x as control to XOR the second register with s\n",
    "    for i, c in enumerate(s):\n",
    "        if c == \"1\" and j >= 0:\n",
    "            simonCircuit.cx(qr[j], qr[n+i]) #the i-th qubit is flipped if s_i is 1\n",
    "\n",
    "    # get random permutation of n qubits\n",
    "    perm = list(np.random.permutation(n))\n",
    "\n",
    "    #initial position\n",
    "    init = list(range(n))\n",
    "    i = 0\n",
    "    while i < n:\n",
    "        if init[i] != perm[i]:\n",
    "            k = perm.index(init[i])\n",
    "            simonCircuit.swap(qr[n+i], qr[n+k]) #swap qubits\n",
    "            init[i], init[k] = init[k], init[i] #marked swapped qubits\n",
    "        else:\n",
    "            i += 1\n",
    "\n",
    "    # randomly flip the qubit\n",
    "    for i in range(n):\n",
    "        if np.random.random() > 0.5:\n",
    "            simonCircuit.x(qr[n+i])\n",
    "\n",
    "    # Apply the barrier to mark the end of the blackbox function\n",
    "    simonCircuit.barrier()\n",
    "    \n",
    "    \n",
    "    # Step 4 apply Hadamard gates to the first register\n",
    "    for i in range(n):\n",
    "        simonCircuit.h(qr[i])\n",
    "        \n",
    "    return simonCircuit\n",
    "\n"
   ]
  },
  {
   "cell_type": "markdown",
   "metadata": {},
   "source": [
    "##### Bernstein-Vazirani"
   ]
  },
  {
   "cell_type": "markdown",
   "metadata": {},
   "source": [
    "The Bernstein-Vazirani algorithm is known for providing a constant query complexity solution to find a hidden string, s, given an oracle implementing a function f(x) that is promised to be the dot product between the input x and the hidden string. The oracle can be implemented in constant depth with CNOT gates, or with clever use of single qubit unitaries. This hints that while entangling operations are necessary in quantum algorithms, the use of states in superposition more important to what truly drives speedup.\n",
    "\n",
    "Though the exclusive use of Z and I (or even CNOT in the less gate efficient implementation), the superposition, and therefore the coherence, is not affected and only contain phase flip factors. Thus the coherence is simply brought to zero when the Hadamards are applied the second time. Still, we use an implementation from the tutorial [2] to generate the output state as a demonstration."
   ]
  },
  {
   "cell_type": "code",
   "execution_count": 108,
   "metadata": {},
   "outputs": [],
   "source": [
    "# implement BV algorithm for 3 qubit state\n",
    "\n",
    "nQubits = 3 # number of physical qubits\n",
    "a = 7      \n",
    "\n",
    "# make sure that a can be represented with nQubits\n",
    "a = a % 2**(nQubits)\n",
    "# print(a)\n",
    "\n",
    "bvCircuit = generateBVcircuit(nQubits,a)\n"
   ]
  },
  {
   "cell_type": "code",
   "execution_count": 109,
   "metadata": {},
   "outputs": [
    {
     "name": "stdout",
     "output_type": "stream",
     "text": [
      "       ┌───┐ ░ ┌───┐ ░ ┌───┐\n",
      "q48_0: ┤ H ├─░─┤ Z ├─░─┤ H ├\n",
      "       ├───┤ ░ ├───┤ ░ ├───┤\n",
      "q48_1: ┤ H ├─░─┤ Z ├─░─┤ H ├\n",
      "       ├───┤ ░ ├───┤ ░ ├───┤\n",
      "q48_2: ┤ H ├─░─┤ Z ├─░─┤ H ├\n",
      "       └───┘ ░ └───┘ ░ └───┘\n"
     ]
    }
   ],
   "source": [
    "print(bvCircuit)"
   ]
  },
  {
   "cell_type": "markdown",
   "metadata": {},
   "source": [
    "Next we run this in the statevector simulator to obtain the coherence."
   ]
  },
  {
   "cell_type": "code",
   "execution_count": 157,
   "metadata": {},
   "outputs": [],
   "source": [
    "job = qiskit.execute(circuit, Aer.get_backend('statevector_simulator'))\n",
    "psi = job.result().get_statevector(circuit)\n",
    "psi.shape = (2**circuit.num_qubits,1)\n",
    "coherence = C_r(psi.dot(psi.conj().T))\n"
   ]
  },
  {
   "cell_type": "code",
   "execution_count": 132,
   "metadata": {},
   "outputs": [
    {
     "data": {
      "text/plain": [
       "1.2116218193129915e-30"
      ]
     },
     "execution_count": 132,
     "metadata": {},
     "output_type": "execute_result"
    }
   ],
   "source": [
    "coherence = getIdealCoherence(bvCircuit)\n",
    "coherence"
   ]
  },
  {
   "cell_type": "markdown",
   "metadata": {},
   "source": [
    "This is what we expected, the coherence of the output state ideally is zero. Given the initial superposition state has a coherence of 3, all of the initial coherence was consumed in finding this solution. For the sake of comparison later, we can compute the depletion for a small range of qubits. We also compute a contrived \"depletion rate\" based on circuit depth."
   ]
  },
  {
   "cell_type": "code",
   "execution_count": 169,
   "metadata": {},
   "outputs": [],
   "source": [
    "# implement BV algorithm for 3 qubit state\n",
    "\n",
    "bvDepletions = {\n",
    "     'base' : []\n",
    "    ,'rate' : []\n",
    "}\n",
    "\n",
    "for i in range(2,7):\n",
    "    \n",
    "    n = i\n",
    "    a = 2**n - 1\n",
    " \n",
    "    bvCircuit = generateBVcircuit(nQubits,a)\n",
    "    d = bvCircuit.depth() - 1\n",
    "    # Generate the state tomography circuits.\n",
    "    qst_qc = state_tomography_circuits(bvCircuit,bvCircuit.qubits[0:n])\n",
    "    job = qiskit.execute(qst_qc, Aer.get_backend('qasm_simulator'), shots=10000)\n",
    "\n",
    "    tomo_qc = StateTomographyFitter(job.result(), qst_qc)\n",
    "    rho = tomo_qc.fit()\n",
    "    Cr = C_r(rho)\n",
    "    bvDepletions['base'] += [(n - Cr)]\n",
    "    bvDepletions['rate'] += [(n - Cr)/d]\n",
    "    \n",
    "    "
   ]
  },
  {
   "cell_type": "markdown",
   "metadata": {},
   "source": [
    "##### Simon Algorithm"
   ]
  },
  {
   "cell_type": "markdown",
   "metadata": {},
   "source": [
    "As an example of an algorithm that is efficient, but not constant depth, we turn to Simon's algorithm for a similar promise problem: finding a hidden string s, given instead an oracle implementing f where f(x) = f(y) iff $y = x \\oplus s$ for all $x \\in \\{0,1\\}^n$. We take the implementation from [3]"
   ]
  },
  {
   "cell_type": "code",
   "execution_count": 145,
   "metadata": {},
   "outputs": [
    {
     "name": "stdout",
     "output_type": "stream",
     "text": [
      "         ┌───┐ ░                                                            ░ »\n",
      " q165_0: ┤ H ├─░───■────────────────────────────────────────────────────────░─»\n",
      "         ├───┤ ░   │                                                        ░ »\n",
      " q165_1: ┤ H ├─░───┼────■────────────────────────■────■───────■─────────────░─»\n",
      "         ├───┤ ░   │    │                        │    │       │             ░ »\n",
      " q165_2: ┤ H ├─░───┼────┼────■───────────────────┼────┼───────┼─────────────░─»\n",
      "         ├───┤ ░   │    │    │                   │    │       │             ░ »\n",
      " q165_3: ┤ H ├─░───┼────┼────┼────■──────────────┼────┼───────┼─────────────░─»\n",
      "         ├───┤ ░   │    │    │    │              │    │       │             ░ »\n",
      " q165_4: ┤ H ├─░───┼────┼────┼────┼────■─────────┼────┼───────┼─────────────░─»\n",
      "         ├───┤ ░   │    │    │    │    │         │    │       │             ░ »\n",
      " q165_5: ┤ H ├─░───┼────┼────┼────┼────┼────■────┼────┼───────┼─────────────░─»\n",
      "         └───┘ ░ ┌─┴─┐  │    │    │    │    │    │    │       │             ░ »\n",
      " q165_6: ──────░─┤ X ├──┼────┼────┼────┼────┼────┼────┼───X───┼────X────────░─»\n",
      "               ░ └───┘┌─┴─┐  │    │    │    │  ┌─┴─┐  │   │   │    │        ░ »\n",
      " q165_7: ──────░──────┤ X ├──┼────┼────┼────┼──┤ X ├──┼───X───┼────┼────────░─»\n",
      "               ░      └───┘┌─┴─┐  │    │    │  └───┘  │       │    │        ░ »\n",
      " q165_8: ──────░───────────┤ X ├──┼────┼────┼─────────┼───X───┼────┼────────░─»\n",
      "               ░           └───┘┌─┴─┐  │    │       ┌─┴─┐ │   │    │  ┌───┐ ░ »\n",
      " q165_9: ──────░────────────────┤ X ├──┼────┼───────┤ X ├─X───┼────┼──┤ X ├─░─»\n",
      "               ░                └───┘┌─┴─┐  │       └───┘     │    │  └───┘ ░ »\n",
      "q165_10: ──────░─────────────────────┤ X ├──┼─────────────────┼────X────────░─»\n",
      "               ░                     └───┘┌─┴─┐             ┌─┴─┐┌───┐      ░ »\n",
      "q165_11: ──────░──────────────────────────┤ X ├─────────────┤ X ├┤ X ├──────░─»\n",
      "               ░                          └───┘             └───┘└───┘      ░ »\n",
      "«         ┌───┐\n",
      "« q165_0: ┤ H ├\n",
      "«         ├───┤\n",
      "« q165_1: ┤ H ├\n",
      "«         ├───┤\n",
      "« q165_2: ┤ H ├\n",
      "«         ├───┤\n",
      "« q165_3: ┤ H ├\n",
      "«         ├───┤\n",
      "« q165_4: ┤ H ├\n",
      "«         ├───┤\n",
      "« q165_5: ┤ H ├\n",
      "«         └───┘\n",
      "« q165_6: ─────\n",
      "«              \n",
      "« q165_7: ─────\n",
      "«              \n",
      "« q165_8: ─────\n",
      "«              \n",
      "« q165_9: ─────\n",
      "«              \n",
      "«q165_10: ─────\n",
      "«              \n",
      "«q165_11: ─────\n",
      "«              \n"
     ]
    }
   ],
   "source": [
    "s = \"010101\" # the hidden bitstring\n",
    "# s = \"111111\" # the hidden bitstring\n",
    "\n",
    "assert 1 < len(s) < 20, \"The length of s must be between 2 and 19\"\n",
    "\n",
    "for c in s:\n",
    "    assert c == \"0\" or c == \"1\", \"s must be a bitstring of '0' and '1'\"\n",
    "    \n",
    "\n",
    "simonCircuit = generateSimonCircuit(s)\n",
    "print(simonCircuit)"
   ]
  },
  {
   "cell_type": "markdown",
   "metadata": {},
   "source": [
    "This circuit is a bit different from the previous used for the BV problem; we now use entangling operations on an ancilla register to perform calculations. To observe the coherence decrease, we must only measure the answer register. This is because incoherent entangling operations (like CNOTs) applied to superpositions are capable of increasing the overall coherence in the system, and is related to the resource theory of entanglement. This is taken advantage of in longer circuits, which is intuitive as more qubits to work with implies more computational power. As interesting a that topic is, in the meantime we'll just look at coherence of the answer register."
   ]
  },
  {
   "cell_type": "code",
   "execution_count": 112,
   "metadata": {},
   "outputs": [
    {
     "data": {
      "text/plain": [
       "0.13588464519375076"
      ]
     },
     "execution_count": 112,
     "metadata": {},
     "output_type": "execute_result"
    }
   ],
   "source": [
    "# Generate the state tomography circuits.\n",
    "qst_qc = state_tomography_circuits(simonCircuit,simonCircuit.qubits[0:6])\n",
    "job = qiskit.execute(qst_qc, Aer.get_backend('qasm_simulator'), shots=10000)\n",
    "\n",
    "tomo_qc = StateTomographyFitter(job.result(), qst_qc)\n",
    "test = tomo_qc.fit()\n",
    "coherence = C_r(test)\n",
    "coherence"
   ]
  },
  {
   "cell_type": "markdown",
   "metadata": {},
   "source": [
    "Here the depletion is lower with nonzero output coherence, indicating possibly that more difficult problems cannot simply collapse the entire possible solution space to a single state as in \"easy\" problems like BV. Let's see what the depletions look like worst- and best-case oracles."
   ]
  },
  {
   "cell_type": "code",
   "execution_count": 170,
   "metadata": {},
   "outputs": [],
   "source": [
    "simonDepletions = {'WC': {\n",
    "                     'base' : []\n",
    "                    ,'rate' : []\n",
    "                    }\n",
    "                  ,'BC': {\n",
    "                     'base' : []\n",
    "                    ,'rate' : []\n",
    "                    }\n",
    "                  }\n",
    "\n",
    "for key in list(simonDepletions.keys()):\n",
    "    for i in range(2,7):\n",
    "\n",
    "        if key == 'WC':\n",
    "            s = \"1\"*i # worst case bitstring\n",
    "        else:\n",
    "            s = \"0\"*i # best case bitstring\n",
    "            \n",
    "        coherences = []\n",
    "        \n",
    "        # run several times to form an average\n",
    "#         for _ in range(1):\n",
    "        n = len(s)\n",
    "        simonCircuit = generateSimonCircuit(s)\n",
    "        d = simonCircuit.depth() - 1\n",
    "        # Generate the state tomography circuits.\n",
    "        qst_qc = state_tomography_circuits(simonCircuit,simonCircuit.qubits[0:n])\n",
    "        job = qiskit.execute(qst_qc, Aer.get_backend('qasm_simulator'), shots=15000)\n",
    "\n",
    "        tomo_qc = StateTomographyFitter(job.result(), qst_qc)\n",
    "        rho = tomo_qc.fit()\n",
    "        coherences += [C_r(rho)]\n",
    "        \n",
    "        Cr = np.average(coherences)\n",
    "        simonDepletions[key]['base'] += [(n - Cr)]\n",
    "        simonDepletions[key]['rate'] += [(n - Cr)/d]\n",
    "    \n",
    "    "
   ]
  },
  {
   "cell_type": "code",
   "execution_count": 171,
   "metadata": {},
   "outputs": [
    {
     "data": {
      "text/plain": [
       "{'base': [1.997682445192119,\n",
       "  2.9935866202998236,\n",
       "  3.994524556928094,\n",
       "  4.994168337358322,\n",
       "  5.994445410239861],\n",
       " 'rate': [0.9988412225960595,\n",
       "  1.4967933101499118,\n",
       "  1.997262278464047,\n",
       "  2.497084168679161,\n",
       "  2.9972227051199307]}"
      ]
     },
     "execution_count": 171,
     "metadata": {},
     "output_type": "execute_result"
    }
   ],
   "source": [
    "bvDepletions"
   ]
  },
  {
   "cell_type": "code",
   "execution_count": 172,
   "metadata": {},
   "outputs": [
    {
     "data": {
      "text/plain": [
       "{'base': [1.9954113357426495,\n",
       "  2.9885818537808313,\n",
       "  3.9777299758082822,\n",
       "  4.952185642063787,\n",
       "  5.889336031303014],\n",
       " 'rate': [0.3990822671485299,\n",
       "  0.49809697563013855,\n",
       "  0.39777299758082824,\n",
       "  0.45019869473307156,\n",
       "  0.6543706701447793]}"
      ]
     },
     "execution_count": 172,
     "metadata": {},
     "output_type": "execute_result"
    }
   ],
   "source": [
    "simonDepletions['WC']"
   ]
  },
  {
   "cell_type": "code",
   "execution_count": 176,
   "metadata": {},
   "outputs": [
    {
     "data": {
      "text/plain": [
       "<matplotlib.legend.Legend at 0x1e8f16a0b08>"
      ]
     },
     "execution_count": 176,
     "metadata": {},
     "output_type": "execute_result"
    },
    {
     "data": {
      "image/png": "[encoded data removed]",
      "text/plain": [
       "<Figure size 432x288 with 1 Axes>"
      ]
     },
     "metadata": {
      "needs_background": "light"
     },
     "output_type": "display_data"
    }
   ],
   "source": [
    "plt.plot(bvDepletions['base'], label='BV')\n",
    "plt.plot(simonDepletions['BC']['base'], label='Simon-BC')\n",
    "plt.plot(simonDepletions['WC']['base'],label='Simon-WC')\n",
    "\n",
    "plt.xlabel('Number of Qubits')\n",
    "plt.ylabel('Coherence Depletion')\n",
    "plt.legend()"
   ]
  },
  {
   "cell_type": "markdown",
   "metadata": {},
   "source": [
    "This plot is a little hard to read, so let's try showing the average coherence depletion per layer of depth to magnify the efficiency."
   ]
  },
  {
   "cell_type": "code",
   "execution_count": 177,
   "metadata": {},
   "outputs": [
    {
     "data": {
      "text/plain": [
       "<matplotlib.legend.Legend at 0x1e8e3f94ac8>"
      ]
     },
     "execution_count": 177,
     "metadata": {},
     "output_type": "execute_result"
    },
    {
     "data": {
      "image/png": "[encoded data removed]",
      "text/plain": [
       "<Figure size 432x288 with 1 Axes>"
      ]
     },
     "metadata": {
      "needs_background": "light"
     },
     "output_type": "display_data"
    }
   ],
   "source": [
    "plt.plot(bvDepletions['rate'], label='BV')\n",
    "plt.plot(simonDepletions['BC']['rate'], label='Simon-BC')\n",
    "plt.plot(simonDepletions['WC']['rate'],label='Simon-WC')\n",
    "\n",
    "plt.xlabel('Number of Qubits')\n",
    "plt.ylabel('Coherence Depletion Rate')\n",
    "plt.legend()"
   ]
  },
  {
   "cell_type": "markdown",
   "metadata": {},
   "source": [
    "Now we can clearly see the performance. An interesting question is whether coherence is tied to algorithmic efficiency, potentially some kind of coherence minimization problem over the solution space given by the problem structure. Especially as most quantum algorithms start with at least some register in the maximally coherence state."
   ]
  },
  {
   "cell_type": "markdown",
   "metadata": {},
   "source": [
    "##### Grover Search"
   ]
  },
  {
   "cell_type": "markdown",
   "metadata": {},
   "source": [
    "As a final example, we look at the Grover search algorithm. Very well known for giving an optimal quadratic query speed up over classical unstructured search algorithms, we can see how the coherence behaves. We'll use the implemetation from [4] to generate the output state of an Exactly 1 3-SAT problem."
   ]
  },
  {
   "cell_type": "code",
   "execution_count": 191,
   "metadata": {},
   "outputs": [],
   "source": [
    "n = 3\n",
    "\n",
    "grover = generateGroverCircuit(n)\n",
    "\n",
    "# Generate the state tomography circuits.\n",
    "qst_qc = state_tomography_circuits(grover,grover.qubits[0:3])\n",
    "job = qiskit.execute(qst_qc, Aer.get_backend('qasm_simulator'), shots=10000)\n",
    "\n",
    "tomo_qc = StateTomographyFitter(job.result(), qst_qc)\n",
    "test = tomo_qc.fit()\n",
    "\n",
    "depletion = n - C_r(test)"
   ]
  },
  {
   "cell_type": "code",
   "execution_count": 192,
   "metadata": {},
   "outputs": [
    {
     "name": "stdout",
     "output_type": "stream",
     "text": [
      "[2.562724121735465, 2.9885818537808313, 2.998474270355049, 2.9935866202998236]\n"
     ]
    }
   ],
   "source": [
    "print([depletion,simonDepletions['WC']['base'][1],simonDepletions['BC']['base'][1],bvDepletions['base'][1]])"
   ]
  },
  {
   "cell_type": "markdown",
   "metadata": {},
   "source": [
    "From this we see that our coherence depletion for Grover is a bit lower than for Bernstein-Vazirani or Simon's with the same initial coherence. We can assume the depletion rate is abysmal for it as it is a deep circuit. However, using the depletion rate, and maybe looking at coherence drop per depth from the full superposition state for larger systems instead of effective T2, calculating coherence could be useful in benchmarking tasks or searching for an optimal compiled circuit. This way, apples to apples comparisons are being made.\n",
    "\n",
    "Another avenue to explore is the effects of coherence on entangling operations and vice versa in quantum algorithms, as entanglement has a bit oldre and richer theoretical development. One final thought is that more efficient ways of computing these functions would be needed, perhaps through semidefinite approximation to get around matrix logarithms, using coherence measures linear in the state, or simply more efficient methods of tomography."
   ]
  },
  {
   "cell_type": "markdown",
   "metadata": {},
   "source": [
    "# References"
   ]
  },
  {
   "cell_type": "markdown",
   "metadata": {},
   "source": [
    "[1] A. Streltsov, G. Adesso, M. Plenio. Quantum Coherence as a Resource (https://arxiv.org/abs/1609.02439)\n",
    "\n",
    "[2] (https://github.com/qiskit-community/qiskit-community-tutorials/blob/master/algorithms/bernstein_vazirani.ipynb)\n",
    "\n",
    "[3] (https://github.com/qiskit-community/qiskit-community-tutorials/blob/master/algorithms/simon_algorithm.ipynb)\n",
    "\n",
    "[4] (https://github.com/qiskit-community/qiskit-community-tutorials/blob/master/algorithms/grover_algorithm.ipynb)"
   ]
  }
 ],
 "metadata": {
  "kernelspec": {
   "display_name": "Python 3",
   "language": "python",
   "name": "python3"
  },
  "language_info": {
   "codemirror_mode": {
    "name": "ipython",
    "version": 3
   },
   "file_extension": ".py",
   "mimetype": "text/x-python",
   "name": "python",
   "nbconvert_exporter": "python",
   "pygments_lexer": "ipython3",
   "version": "3.7.7"
  }
 },
 "nbformat": 4,
 "nbformat_minor": 4
}
