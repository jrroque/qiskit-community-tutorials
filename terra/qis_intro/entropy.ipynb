{
 "cells": [
  {
   "cell_type": "markdown",
   "metadata": {},
   "source": [
    "# Entropy"
   ]
  },
  {
   "cell_type": "code",
   "execution_count": 4,
   "metadata": {},
   "outputs": [],
   "source": [
    "import numpy as np\n",
    "import matplotlib.pyplot as plt\n",
    "from qiskit import *\n",
    "from qiskit.providers.aer.noise import NoiseModel\n",
    "from qiskit.ignis.verification.tomography import state_tomography_circuits, StateTomographyFitter\n",
    "\n",
    "provider = IBMQ.load_account()\n",
    "%matplotlib inline"
   ]
  },
  {
   "cell_type": "markdown",
   "metadata": {},
   "source": [
    "Entropy is an important concept in information theory, quantifying the amount of uncertainty in an observed state. It is a rich and deep topic; this notebook will cover some high level concepts involving Shannon and von Neumann entropy, and how they may be computed and applied."
   ]
  },
  {
   "cell_type": "markdown",
   "metadata": {},
   "source": [
    "### Shannon Entropy"
   ]
  },
  {
   "cell_type": "markdown",
   "metadata": {},
   "source": [
    "Given a random variable X, learning its value is equivaluent to learning its probability distribution. Its Shannon entropy is a measure of how much information, on average, is gained when its value is learned. It is a function of the distribution, written as:"
   ]
  },
  {
   "cell_type": "markdown",
   "metadata": {},
   "source": [
    "\\begin{equation*}\n",
    "H(X) = H(p_{1},...,p_{n}) = -\\sum_{x}p_{x}log(p_{x})\n",
    "\\end{equation*}"
   ]
  },
  {
   "cell_type": "markdown",
   "metadata": {},
   "source": [
    "where for our purposes the logarithm is assumed to be base 2, and probability 0 events contribute no entropy. An intuitive justification for the formula follows: given that observing an event with probability p imparts some information $I(p)$, we can assume that learning an independent event with probability q would increase the entropy additively, $I(pq) = I(p) + I(q)$. So, given a process that produces independent outcomes $p_{x}$, the average information gain would be the usual mean of a function, resulting in the equation above. Qiskit has a built in function for this, added below so we can change the default base to 2."
   ]
  },
  {
   "cell_type": "code",
   "execution_count": 8,
   "metadata": {},
   "outputs": [],
   "source": [
    "def shannon_entropy(pvec, base=2):\n",
    "    \"\"\"\n",
    "    Compute the Shannon entropy of a probability vector.\n",
    "    The shannon entropy of a probability vector pv is defined as\n",
    "    $H(pv) = - \\\\sum_j pv[j] log_b (pv[j])$ where $0 log_b 0 = 0$.\n",
    "    Args:\n",
    "        pvec (array_like): a probability vector.\n",
    "        base (int): the base of the logarithm\n",
    "    Returns:\n",
    "        float: The Shannon entropy H(pvec).\n",
    "    \"\"\"\n",
    "    if base == 2:\n",
    "        def logfn(x):\n",
    "            return - x * np.log2(x)\n",
    "    elif base == np.e:\n",
    "        def logfn(x):\n",
    "            return - x * np.log(x)\n",
    "    else:\n",
    "        def logfn(x):\n",
    "            return -x * np.log(x) / np.log(base)\n",
    "\n",
    "    h = 0.\n",
    "    for x in pvec:\n",
    "        if 0 < x < 1:\n",
    "            h += logfn(x)\n",
    "    return h\n"
   ]
  },
  {
   "cell_type": "markdown",
   "metadata": {},
   "source": [
    "With the formula in mind, more intuition can be gleaned from a simple example. Consider a coin flip. If it is a fair coin, the Shannon entropy evaluates to $-2(0.5log(0.5)) = 1$, which can be interpreted as the coin representing a single bit of uncertain information. If it is a loaded coin, say 25/75 heads/tails, we then have: "
   ]
  },
  {
   "cell_type": "code",
   "execution_count": 15,
   "metadata": {},
   "outputs": [
    {
     "name": "stdout",
     "output_type": "stream",
     "text": [
      "The Shannon entropy of a 25/75 coin flip is:  0.8112781244591328\n"
     ]
    }
   ],
   "source": [
    "print(\"The Shannon entropy of a 25/75 coin flip is: \",shannon_entropy([.25,.75]))"
   ]
  },
  {
   "cell_type": "markdown",
   "metadata": {},
   "source": [
    "Continuing this trend, we can see that if we had some process always gave the same output, no information can be gained as we already know what will happen. We plot the curve for the binary Shannon entropy below, showing it is maximal when the \"coin\" is fair, and zero when it is a constant output."
   ]
  },
  {
   "cell_type": "code",
   "execution_count": 40,
   "metadata": {},
   "outputs": [
    {
     "data": {
      "text/plain": [
       "Text(0, 0.5, 'Binary Shannon Entropy')"
      ]
     },
     "execution_count": 40,
     "metadata": {},
     "output_type": "execute_result"
    },
    {
     "data": {
      "image/png": "[encoded data removed]",
      "text/plain": [
       "<Figure size 432x288 with 1 Axes>"
      ]
     },
     "metadata": {
      "needs_background": "light"
     },
     "output_type": "display_data"
    }
   ],
   "source": [
    "pvals = [i*0.05 for i in range(0,21)]\n",
    "binaryEntropy = [shannon_entropy([p,1-p]) for p in pvals]\n",
    "plt.plot(pvals,binaryEntropy)\n",
    "plt.xlabel('p')\n",
    "plt.ylabel('Binary Shannon Entropy')"
   ]
  },
  {
   "cell_type": "markdown",
   "metadata": {},
   "source": [
    "From the above we can see that the entropy is a concave function, with a maximum value limited by the $log(d)$ where d is the number of possible outcomes. These properties can be used to derive a multitude of important results in information theory. This entropy, while a classical quantity, is essential for its quantum counterpart, the von Neumann entropy. "
   ]
  },
  {
   "cell_type": "markdown",
   "metadata": {},
   "source": [
    "### Von Neumann Entropy"
   ]
  },
  {
   "cell_type": "markdown",
   "metadata": {},
   "source": [
    "Now, suppose we're given an arbitrary quantum state $\\rho$, which is basically a generalized probability distribution, with eigenvalues $\\lambda_{x}$. Then we can define a similar entropy by:"
   ]
  },
  {
   "cell_type": "markdown",
   "metadata": {},
   "source": [
    "\\begin{equation*}\n",
    "S(\\rho) = -tr (\\rho log \\rho) = -\\sum_{x} \\lambda_{x} log \\lambda_{x}\n",
    "\\end{equation*}"
   ]
  },
  {
   "cell_type": "markdown",
   "metadata": {},
   "source": [
    "which is known as the von Neumann entropy. From the above it can be seen that for a pure state $\\rho = |\\psi\\rangle\\langle\\psi|$, as it is idempotent ($\\rho  =\\rho^{2}$), the diagonalization yields a single eigenvalue of 1. Thus, pure state entropy is simply $log 1 = 0$. Another observation is that for a diagonal density matrix, the second equality is equivalent to the Shannon entropy. This implies that in a fully decohered state, the measurement outcomes are no better than a loaded coin flip, and the state is essentially classical. Pulling it all together, we can come up with the \"intuition\" that the von Neumann entropy is an measure of the certainty that a given state is quantum. Let's pull in Qiskit's definition of it."
   ]
  },
  {
   "cell_type": "code",
   "execution_count": 45,
   "metadata": {},
   "outputs": [],
   "source": [
    "def entropy(state):\n",
    "    \"\"\"\n",
    "    Compute the von-Neumann entropy of a quantum state.\n",
    "    Args:\n",
    "        state (array_like): a density matrix or state vector.\n",
    "    Returns:\n",
    "        float: The von-Neumann entropy S(rho).\n",
    "    \"\"\"\n",
    "    rho = np.array(state)\n",
    "    if rho.ndim == 1:\n",
    "        return 0\n",
    "    evals = np.maximum(np.linalg.eigvalsh(state), 0.)\n",
    "#     return shannon_entropy(evals, base=np.e)\n",
    "    return shannon_entropy(evals, base=2)"
   ]
  },
  {
   "cell_type": "markdown",
   "metadata": {},
   "source": [
    "An analogous example to what was given for Shannon entropy would be to apply noise to a quantum state. Consider a single qubit initialized to the $|0\\rangle$ state in the computational basis, affected by simple depolarizing noise:\n",
    "\n"
   ]
  },
  {
   "cell_type": "markdown",
   "metadata": {},
   "source": [
    "\\begin{equation*}\n",
    "E(\\rho) = \\frac{pI}{2} + (1-p)\\rho ,\\space\\rho = \\begin{pmatrix} 1 & 0 \\\\ 0 & 0 \\end{pmatrix}\n",
    "\\end{equation*}"
   ]
  },
  {
   "cell_type": "markdown",
   "metadata": {},
   "source": [
    "which acts to replace the quantum state with the maximally mixed state with probability p. Say we take a 25/75 split between noisy/pure states, this gives:"
   ]
  },
  {
   "cell_type": "code",
   "execution_count": 54,
   "metadata": {},
   "outputs": [
    {
     "name": "stdout",
     "output_type": "stream",
     "text": [
      "The von Neumann entropy of a 25/75 depolarizing channel is:  0.5435644431995964\n"
     ]
    }
   ],
   "source": [
    "def depolarize(rho, p):\n",
    "   \n",
    "    rho = p*np.eye(2)/2 + (1-p)*rho\n",
    "    \n",
    "    return rho\n",
    "    \n",
    "p = 0.25\n",
    "rho = np.array([[1,0],[0,0]])\n",
    "noisy_rho = depolarize(rho,p)\n",
    "\n",
    "print(\"The von Neumann entropy of a 25/75 depolarizing channel is: \",entropy(noisy_rho))"
   ]
  },
  {
   "cell_type": "markdown",
   "metadata": {},
   "source": [
    "In this case our uncertainty is increased by about 50%. Let's do a sweep to see what the function looks like."
   ]
  },
  {
   "cell_type": "code",
   "execution_count": 56,
   "metadata": {},
   "outputs": [
    {
     "data": {
      "text/plain": [
       "Text(0, 0.5, 'von Neumann Entropy')"
      ]
     },
     "execution_count": 56,
     "metadata": {},
     "output_type": "execute_result"
    },
    {
     "data": {
      "image/png": "[encoded data removed]",
      "text/plain": [
       "<Figure size 432x288 with 1 Axes>"
      ]
     },
     "metadata": {
      "needs_background": "light"
     },
     "output_type": "display_data"
    }
   ],
   "source": [
    "pvals = [i*0.05 for i in range(0,21)]\n",
    "vonNeumannEntropy = [entropy(depolarize(rho,p)) for p in pvals]\n",
    "plt.plot(pvals,vonNeumannEntropy)\n",
    "plt.xlabel('p')\n",
    "plt.ylabel('von Neumann Entropy')"
   ]
  },
  {
   "cell_type": "markdown",
   "metadata": {},
   "source": [
    "The function is concave, with a maximum entropy at p = 1, indicating the state is fully decohered into the maximally mixed state at that point. Now we turn to how we might calculate this for a real quantum device. "
   ]
  },
  {
   "cell_type": "markdown",
   "metadata": {},
   "source": [
    "### Simulation of a Real Device"
   ]
  },
  {
   "cell_type": "markdown",
   "metadata": {},
   "source": [
    "Defining a noise model with one of the real backends, we can use the QASM simulator as a rough approximation. We will then use entropy, though overkill as we may just observe fidelity or the output counts, to look at the quality of the initialization for each of the bits on the Vigo device as a simple example."
   ]
  },
  {
   "cell_type": "code",
   "execution_count": 5,
   "metadata": {},
   "outputs": [],
   "source": [
    "# Build noise model from backend properties\n",
    "\n",
    "backend = provider.get_backend('ibmq_vigo')\n",
    "noise_model = NoiseModel.from_backend(backend)\n",
    "\n",
    "# Get coupling map from backend\n",
    "coupling_map = backend.configuration().coupling_map\n",
    "\n",
    "# Get basis gates from noise model\n",
    "basis_gates = noise_model.basis_gates\n",
    "\n",
    "nqubits = len(backend.properties()._qubits)\n"
   ]
  },
  {
   "cell_type": "markdown",
   "metadata": {},
   "source": [
    "To get the density matrix, we will use the state tomography functionality of Qiskit, and generate results for each qubit measured."
   ]
  },
  {
   "cell_type": "code",
   "execution_count": 133,
   "metadata": {},
   "outputs": [],
   "source": [
    "# Generate quantum circuit experiments\n",
    "\n",
    "result_matrices = []\n",
    "\n",
    "for i in range(nqubits):\n",
    "    circ = QuantumCircuit(nqubits,nqubits)\n",
    "    \n",
    "    # Generate the state tomography circuits.\n",
    "    qst_qc = state_tomography_circuits(circ,circ.qubits[i])\n",
    "    job = qiskit.execute(qst_qc, Aer.get_backend('qasm_simulator'),shots=8192\n",
    "                        ,coupling_map=coupling_map\n",
    "                        ,basis_gates=basis_gates\n",
    "                        ,noise_model=noise_model\n",
    "                )\n",
    "    tomo_qc = StateTomographyFitter(job.result(), qst_qc)\n",
    "    result_matrices += [tomo_qc.fit()]\n",
    "\n",
    "\n"
   ]
  },
  {
   "cell_type": "code",
   "execution_count": 134,
   "metadata": {},
   "outputs": [
    {
     "data": {
      "text/plain": [
       "Text(0, 0.5, 'von Neumann Entropy')"
      ]
     },
     "execution_count": 134,
     "metadata": {},
     "output_type": "execute_result"
    },
    {
     "data": {
      "image/png": "[encoded data removed]",
      "text/plain": [
       "<Figure size 432x288 with 1 Axes>"
      ]
     },
     "metadata": {
      "needs_background": "light"
     },
     "output_type": "display_data"
    }
   ],
   "source": [
    "qubits = [i for i in range(nqubits)]\n",
    "vigoEntropy = [entropy(rho) for rho in result_matrices]\n",
    "plt.scatter(qubits,vigoEntropy)\n",
    "plt.xlabel('Qubit #')\n",
    "plt.ylabel('von Neumann Entropy')"
   ]
  },
  {
   "cell_type": "markdown",
   "metadata": {},
   "source": [
    "From this qubit 2 seems to have the best initialization. Let's look at which bits fare best at idling."
   ]
  },
  {
   "cell_type": "code",
   "execution_count": 149,
   "metadata": {},
   "outputs": [],
   "source": [
    "result_matrices = []\n",
    "\n",
    "depths = [1,5,10,50,100,500]\n",
    "results = {}\n",
    "for q in range(nqubits):\n",
    "    results[q] = []\n",
    "    \n",
    "\n",
    "for i in range(nqubits):\n",
    "    for depth in depths:\n",
    "        \n",
    "        circ = QuantumCircuit(nqubits,nqubits)\n",
    "\n",
    "        for _ in range(depth): \n",
    "            circ.i(i)\n",
    "            circ.barrier()\n",
    "  \n",
    "\n",
    "        # Generate the state tomography circuits.\n",
    "        qst_qc = state_tomography_circuits(circ,circ.qubits[i])\n",
    "        job = qiskit.execute(qst_qc, Aer.get_backend('qasm_simulator'),shots=8192\n",
    "                            ,coupling_map=coupling_map\n",
    "                            ,basis_gates=basis_gates\n",
    "                            ,noise_model=noise_model\n",
    "                    )\n",
    "\n",
    "        tomo_qc = StateTomographyFitter(job.result(), qst_qc)\n",
    "        rho = tomo_qc.fit()\n",
    "        results[i] += [entropy(rho)]\n",
    "\n"
   ]
  },
  {
   "cell_type": "code",
   "execution_count": 150,
   "metadata": {},
   "outputs": [
    {
     "data": {
      "text/plain": [
       "<matplotlib.legend.Legend at 0x2328de9fd88>"
      ]
     },
     "execution_count": 150,
     "metadata": {},
     "output_type": "execute_result"
    },
    {
     "data": {
      "image/png": "[encoded data removed]",
      "text/plain": [
       "<Figure size 432x288 with 1 Axes>"
      ]
     },
     "metadata": {
      "needs_background": "light"
     },
     "output_type": "display_data"
    }
   ],
   "source": [
    "for i in range(nqubits):\n",
    "    plt.plot(depths,results[i],label='Qubit' + str(i))\n",
    "plt.xlabel('Depth')\n",
    "plt.ylabel('von Neumann Entropy')\n",
    "plt.legend()"
   ]
  },
  {
   "cell_type": "markdown",
   "metadata": {},
   "source": [
    "From the basic simulation we can see that Qubits 0, 2, and 4 seem the best at idling. We can compare against the calibration data for the T1 relaxation time to see how well the noise model compares to the real device."
   ]
  },
  {
   "cell_type": "code",
   "execution_count": 6,
   "metadata": {},
   "outputs": [],
   "source": [
    "T1 = []\n",
    "\n",
    "for i in range(nqubits):\n",
    "    T1 += [backend.properties()._qubits[i]['T1'][0]]\n",
    "           "
   ]
  },
  {
   "cell_type": "code",
   "execution_count": 8,
   "metadata": {},
   "outputs": [
    {
     "name": "stdout",
     "output_type": "stream",
     "text": [
      "0.00013017602669790368\n",
      "7.247889752208142e-05\n",
      "7.163552399836896e-05\n",
      "2.709715414292764e-05\n",
      "0.00012128636374867731\n"
     ]
    }
   ],
   "source": [
    "for i in range(len(T1)):\n",
    "    print(T1[i])"
   ]
  },
  {
   "cell_type": "markdown",
   "metadata": {},
   "source": [
    "The ordering is off, but it does somewhat catch which qubits are quick to thermally relax."
   ]
  },
  {
   "cell_type": "markdown",
   "metadata": {},
   "source": [
    "We've gone through a brief overview of what classical and quantum entropies are. By itself, entropy seems a roundabout way to check performance of quantum systems at the circuit level of abstraction as we've done here. However, entropy is used in the calculation of important properties in quantum information resource theories, such as those of coherence and entanglement, as well as in coding/compression and communication theory. "
   ]
  },
  {
   "cell_type": "markdown",
   "metadata": {},
   "source": [
    "# References"
   ]
  },
  {
   "cell_type": "markdown",
   "metadata": {},
   "source": [
    "[1] M. Nielsen, I. Chuang. Quantum Computation and Quantum Information"
   ]
  }
 ],
 "metadata": {
  "kernelspec": {
   "display_name": "Python 3",
   "language": "python",
   "name": "python3"
  },
  "language_info": {
   "codemirror_mode": {
    "name": "ipython",
    "version": 3
   },
   "file_extension": ".py",
   "mimetype": "text/x-python",
   "name": "python",
   "nbconvert_exporter": "python",
   "pygments_lexer": "ipython3",
   "version": "3.7.7"
  }
 },
 "nbformat": 4,
 "nbformat_minor": 4
}
