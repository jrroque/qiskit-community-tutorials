{
 "cells": [
  {
   "cell_type": "markdown",
   "metadata": {},
   "source": [
    "# Shadow Tomography"
   ]
  },
  {
   "cell_type": "markdown",
   "metadata": {},
   "source": [
    "In this notebook we give an overview of a method, introduced in [1] and made more hardware efficient in [2], of predicting functions of a quantum state, without relatively many measurements or performing full tomography. The motivation is that for certain characterization tasks, we may not need a full description of a quantum state to predict observables of interest, avoiding the prohibitive sampling costs of state tomography at scale. First we'll import some tools we'll use."
   ]
  },
  {
   "cell_type": "code",
   "execution_count": 1,
   "metadata": {},
   "outputs": [],
   "source": [
    "# importing basic tools\n",
    "import numpy as np\n",
    "from functools import reduce\n",
    "from itertools import combinations\n",
    "\n",
    "# importing qiskit\n",
    "from qiskit import *\n",
    "from qiskit import QuantumCircuit, ClassicalRegister, QuantumRegister, execute\n",
    "\n",
    "from copy import deepcopy\n",
    "from qiskit.quantum_info import state_fidelity, purity\n",
    "from qiskit.providers.aer import noise\n",
    "\n",
    "from qiskit.providers.aer.noise import NoiseModel\n",
    "from qiskit.providers.aer.noise.errors import pauli_error, depolarizing_error\n",
    "\n",
    "\n",
    "# Load IBMQ account\n",
    "# provider = IBMQ.load_account()\n",
    "# provider.backends()"
   ]
  },
  {
   "cell_type": "markdown",
   "metadata": {},
   "source": [
    "### Introduction"
   ]
  },
  {
   "cell_type": "markdown",
   "metadata": {},
   "source": [
    "Predicting functions of a quantum state, such as fidelity and entanglement, are important tasks for engineering quantum systems. Due to the probabilistic nature of measurements in quantum mechanics, predictions are made through many measurements of a given state, as in state tomography. As these systems grow in size, say a quantum computer with n qubits, obtaining a full description of these states requires sampling that scales exponentially in n. \n",
    "\n",
    "In [1], it was shown that this full description can be excessive for the intended use. Instead, we are able to predict the intended expectation values $o_{i}$ of an exponentially large set of M observables $O_{i}$:\n",
    "\n",
    "\\begin{equation*}\n",
    "o_{i}(\\rho) = tr(O_{i}\\rho)\n",
    "\\end{equation*}\n",
    "\n",
    "with a polynomial number of samples (i.e N = $O(log(M))$, using a method dubbed \"shadow tomography\". This method was equipped with a more efficient implementation and rigorous statistical convergence guarantees in [2], and is the procedure that will be followed here."
   ]
  },
  {
   "cell_type": "markdown",
   "metadata": {},
   "source": [
    "### Procedure"
   ]
  },
  {
   "cell_type": "markdown",
   "metadata": {},
   "source": [
    "Assume the result of a quantum computation, $\\rho$ is some $d = 2^{n}$ dimensional unknown quantum state. To predict values of functions of this state, we repeatedly perform the following procedure: apply a random unitary U (selected from a fixed ensemble) and perform a single-shot computational basis measurement. Applying U to $\\rho$ gives $U \\rho U^{\\dagger}$, so from the measurement outcomes $|b\\rangle$, we can construct a classical description as $U^{\\dagger} |b\\rangle \\langle b|U$ that is essentially the collapsed form of the full quantum state. Below is a function to help us get the necessary vector from a measurement output.\n",
    "\n"
   ]
  },
  {
   "cell_type": "code",
   "execution_count": 4,
   "metadata": {},
   "outputs": [],
   "source": [
    "def bitToVector(bitstring):\n",
    "    \n",
    "    \"\"\"\n",
    "    Create vectorized version of a bitstring.\n",
    "    \"\"\"\n",
    "    n = len(bitstring)\n",
    "    \n",
    "    b = np.zeros(2**n)\n",
    "    b[int(bitstring,2)] = 1\n",
    "    b.shape = (2**n,1)\n",
    "    \n",
    "    return b\n",
    "\n"
   ]
  },
  {
   "cell_type": "markdown",
   "metadata": {},
   "source": [
    "Viewing the mapping of the original state to the average classical description (over the unitary and sample distributions) as a quantum channel, we have:\n",
    "\n",
    "\\begin{equation*}\n",
    "\\mathbb{E}[U^{\\dagger} |\\hat{b}\\rangle \\langle \\hat{b}|U] = M(\\rho) \\implies \\rho = \\mathbb{E} [M^{-1}(U^{\\dagger} |\\hat{b}\\rangle \\langle \\hat{b}|U)]\n",
    "\\end{equation*}\n",
    "\n",
    "For this notebook we take a look at two unitary distributions that affect the form of M, random n-qubit Clifford circuits, and tensor products of random single-qubit Clifford circuits (measuring in a random Pauli basis). M comes out to be $M_{n}^{-1} = (2^{n}+1)\\rho - \\mathbb{I}$ and $M_{P}^{-1} = \\bigotimes_{i=1}^{n} M_{1}^{-1} = \\bigotimes_{i=1}^{n} 3\\rho - \\mathbb{I}$ for n-qubit Cliffords and random Pauli measurements, respectively. Next we give a couple of functions to compute this map and produce a snapshot."
   ]
  },
  {
   "cell_type": "code",
   "execution_count": 82,
   "metadata": {},
   "outputs": [],
   "source": [
    "def invM(rho,n):\n",
    "    \n",
    "    \"\"\"\n",
    "    Compute inverse channel operation for n-qubit random Clifford Circuits\n",
    "    \"\"\"\n",
    "    \n",
    "    rho = (2**n+1)*rho - np.eye(2**n)\n",
    "     \n",
    "    return rho\n",
    "\n",
    "def getSnapshot(state,Udg,n):\n",
    "    \n",
    "    \"\"\"\n",
    "    Compute classical snapshot of a quantum state from its measurement outcome.\n",
    "    \"\"\"\n",
    "    \n",
    "    snapshot = Udg.dot(state)     \n",
    "    snapshot = snapshot.dot(snapshot.conj().T)\n",
    "    snapshot = invM(snapshot,n)\n",
    "    \n",
    "    return snapshot\n",
    "        "
   ]
  },
  {
   "cell_type": "markdown",
   "metadata": {},
   "source": [
    "This mapping, while not completely positive, is designed to be applied to the single measurement classical description of the quantum state to obtain the classical snapshot $\\hat{\\rho} = M^{-1}(U^{\\dagger} |\\hat{b}\\rangle \\langle \\hat{b}|U)$ that exactly reproduces $\\rho$ in expectation, $\\mathbb{E}[\\hat{\\rho}] = \\rho $. So for N measurements, we produce N snapshots which form an array called the classical shadow of $\\rho$:\n",
    "\n",
    "\\begin{equation*}\n",
    "S(\\rho;N) = \\lbrace\\hat{\\rho}_{i} = U^{\\dagger}_{i} |\\hat{b_{i}}\\rangle \\langle \\hat{b_{i}}|U_{i}\\rbrace_{i = 1}^{N}\n",
    "\\end{equation*}\n",
    "\n",
    "From this array, we break it into K equally-sized chunks to form K empirical mean estimators of the form:\n",
    "\n",
    "\\begin{equation*}\n",
    "\\hat{\\rho}_{(k)} = \\frac{1}{\\lfloor N/K\\rfloor} \\sum_{i=(k-1)\\lfloor N/K\\rfloor+1}^{k\\lfloor N/K\\rfloor}{\\hat{\\rho}_{i}}\n",
    "\\end{equation*}"
   ]
  },
  {
   "cell_type": "code",
   "execution_count": 5,
   "metadata": {},
   "outputs": [],
   "source": [
    "def chunks(lst, n):\n",
    "    \n",
    "    for i in range(0, len(lst), n):\n",
    "        yield lst[i:i + n]"
   ]
  },
  {
   "cell_type": "markdown",
   "metadata": {},
   "source": [
    "With these estimators we can perform median of means estimation of linear functions of the original state, i.e. given an observable $O$ and estimators $\\hat{\\rho}_{(k)}$, the expectation can be estimated as:\n",
    "\n",
    "\\begin{equation*}\n",
    "\\ o(\\rho) = tr(O\\rho) \\approx \\hat{o}(N,K) = median\\lbrace tr(O \\hat{\\rho}_{(i)}) \\rbrace_{i=1}^{K}\n",
    "\\end{equation*}"
   ]
  },
  {
   "cell_type": "markdown",
   "metadata": {},
   "source": [
    "Now we are equipped to implement this in Qiskit. First, let's consider the full n-qubit Clifford case."
   ]
  },
  {
   "cell_type": "markdown",
   "metadata": {},
   "source": [
    "### Classical Shadow Generation"
   ]
  },
  {
   "cell_type": "markdown",
   "metadata": {},
   "source": [
    "First lets initialize some parameters, and the circuit to produce the state with which we want to predict functions. As in [2] we'll study the GHZ state, starting with 2 qubit case. We'll look at fidelity as an example, so we'll need the real statevector as well."
   ]
  },
  {
   "cell_type": "code",
   "execution_count": 33,
   "metadata": {},
   "outputs": [],
   "source": [
    "def generateGHZ(circ):\n",
    "    \"\"\"\n",
    "    Build circuit to gneerate GHZ state for N-qubits\n",
    "    \"\"\"\n",
    "    \n",
    "    qubits = circ.qubits\n",
    "    n = len(qubits)\n",
    "    \n",
    "    if n == 1:\n",
    "        print('There is only one qubit')\n",
    "        return\n",
    "    else:\n",
    "        circ.h(0)\n",
    "        \n",
    "        for q in qubits[1:]:\n",
    "            circ.cx(0,q)\n",
    "        \n",
    "        return\n",
    "    "
   ]
  },
  {
   "cell_type": "code",
   "execution_count": 17,
   "metadata": {},
   "outputs": [
    {
     "name": "stdout",
     "output_type": "stream",
     "text": [
      "[0.70710678+0.j 0.        +0.j 0.        +0.j 0.70710678+0.j] \n",
      "\n",
      "      ┌───┐     \n",
      "q_0: ┤ H ├──■──\n",
      "     └───┘┌─┴─┐\n",
      "q_1: ─────┤ X ├\n",
      "          └───┘\n"
     ]
    }
   ],
   "source": [
    "# initialize circuit parameters \n",
    "n = 2\n",
    "backend = Aer.get_backend('qasm_simulator')\n",
    "\n",
    "# initialize shadow\n",
    "N = 500\n",
    "K = 100\n",
    "\n",
    "# initialize circuit\n",
    "ghz = QuantumCircuit(n)\n",
    "\n",
    "# build circuit\n",
    "generateGHZ(ghz)\n",
    "\n",
    "job = qiskit.execute(ghz, Aer.get_backend('statevector_simulator'))\n",
    "psi = job.result().get_statevector(ghz)\n",
    "\n",
    "# print the ciruit\n",
    "print(psi,'\\n\\n',ghz)"
   ]
  },
  {
   "cell_type": "markdown",
   "metadata": {},
   "source": [
    "Now, we'll create shadow tomography circuits from random Cliffords and random Pauli measurements to compare later on."
   ]
  },
  {
   "cell_type": "markdown",
   "metadata": {},
   "source": [
    "##### Shadow from Random Cliffords"
   ]
  },
  {
   "cell_type": "markdown",
   "metadata": {},
   "source": [
    "Here we define a function to perform random Clifford measurements."
   ]
  },
  {
   "cell_type": "code",
   "execution_count": 35,
   "metadata": {},
   "outputs": [],
   "source": [
    "def n_clifford_circuit(n):\n",
    "    \n",
    "    # generate random clifford \n",
    "    U = qiskit.quantum_info.random_clifford(n)\n",
    "    G = qiskit.extensions.UnitaryGate(U)\n",
    "    Udg = G.to_matrix().conj().T\n",
    "\n",
    "    qc = QuantumCircuit(n,n)\n",
    "    q = qc.qubits\n",
    "    c = qc.clbits\n",
    "    # apply gates\n",
    "    qc.unitary(G,q)\n",
    "    qc.measure(q,c)\n",
    "    \n",
    "    \n",
    "    return Udg, qc\n"
   ]
  },
  {
   "cell_type": "markdown",
   "metadata": {},
   "source": [
    "Now we can finally generate the classical shadow of our Bell state."
   ]
  },
  {
   "cell_type": "code",
   "execution_count": 148,
   "metadata": {},
   "outputs": [],
   "source": [
    "def get_clifford_shadow(circ,N,nqubits):\n",
    "    \n",
    "    shadow_clifford = []\n",
    "\n",
    "    for _ in range(N):\n",
    "\n",
    "        Udg, mc = n_clifford_circuit(nqubits)\n",
    "        qc = circ + mc\n",
    "\n",
    "        # create classical snapshot\n",
    "        job = qiskit.execute(qc, backend,shots=1, memory=True)\n",
    "        result = job.result()\n",
    "        memory = result.get_memory(qc)[0]\n",
    "\n",
    "        b = bitToVector(memory)\n",
    "        snapshot = getSnapshot(b,Udg,nqubits)\n",
    "\n",
    "        shadow_clifford += [snapshot]\n",
    "        \n",
    "    return shadow_clifford\n"
   ]
  },
  {
   "cell_type": "code",
   "execution_count": 111,
   "metadata": {},
   "outputs": [],
   "source": [
    "shadow_clifford = get_clifford_shadow(ghz,N,n)"
   ]
  },
  {
   "cell_type": "code",
   "execution_count": 112,
   "metadata": {},
   "outputs": [
    {
     "data": {
      "text/plain": [
       "array([[ 2.50000000e-01-2.95197503e-17j, -2.95197503e-17-1.25000000e+00j,\n",
       "         1.25000000e+00-2.95197503e-17j,  2.95197503e-17+1.25000000e+00j],\n",
       "       [-2.95197503e-17+1.25000000e+00j,  2.50000000e-01+2.95197503e-17j,\n",
       "        -2.95197503e-17+1.25000000e+00j, -1.25000000e+00-2.95197503e-17j],\n",
       "       [ 1.25000000e+00-2.95197503e-17j, -2.95197503e-17-1.25000000e+00j,\n",
       "         2.50000000e-01-2.95197503e-17j,  2.95197503e-17+1.25000000e+00j],\n",
       "       [ 2.95197503e-17-1.25000000e+00j, -1.25000000e+00-2.95197503e-17j,\n",
       "         2.95197503e-17-1.25000000e+00j,  2.50000000e-01+2.95197503e-17j]])"
      ]
     },
     "execution_count": 112,
     "metadata": {},
     "output_type": "execute_result"
    }
   ],
   "source": [
    "shadow_clifford[0]"
   ]
  },
  {
   "cell_type": "markdown",
   "metadata": {},
   "source": [
    "##### Shadow from Random Pauli Measurements"
   ]
  },
  {
   "cell_type": "markdown",
   "metadata": {},
   "source": [
    "Next, we define a similar function for Pauli measurements."
   ]
  },
  {
   "cell_type": "code",
   "execution_count": 90,
   "metadata": {},
   "outputs": [],
   "source": [
    "def n_pauli_circuit(n):\n",
    "    \n",
    "    # initialize circuit\n",
    "    qc = QuantumCircuit(n,n)\n",
    "    q = qc.qubits\n",
    "    c = qc.clbits\n",
    "    \n",
    "    qbases = {}\n",
    "\n",
    "    # apply random single qubit measurements\n",
    "    for qbit in range(n):\n",
    "\n",
    "        which_measure = np.random.rand(1,1)\n",
    "\n",
    "        # perform x basis measurement if less than 1/3\n",
    "        if (which_measure < 1/3):\n",
    "            qc.h(qbit)\n",
    "            qbases[qbit] = 0\n",
    "\n",
    "        # perform y basis measurement if between 1/3 and 2/3\n",
    "        elif (which_measure >= 1/3) & (which_measure < 2/3):\n",
    "            qc.sdg(qbit)\n",
    "            qc.h(qbit)\n",
    "            qbases[qbit] = 1\n",
    "\n",
    "        # otherwise perform z basis measurement\n",
    "        else:\n",
    "            qbases[qbit] = 2\n",
    "\n",
    "    qc.measure(q,c)\n",
    "    \n",
    "    return qbases, qc"
   ]
  },
  {
   "cell_type": "code",
   "execution_count": 176,
   "metadata": {},
   "outputs": [],
   "source": [
    "def get_pauli_shadow(circ,N,nqubits):\n",
    "    \n",
    "    shadow_pauli = []\n",
    "\n",
    "    H = np.array([[1,1],[1,-1]])/np.sqrt(2)\n",
    "    S = np.array([[1,0],[0,1j]])\n",
    "    I = np.eye(2)\n",
    "\n",
    "    Udgs = [H,S.dot(H),I]\n",
    "\n",
    "    for _ in range(N):\n",
    "\n",
    "        qbases, mc = n_pauli_circuit(nqubits)\n",
    "        qc = circ + mc\n",
    "\n",
    "        # create classical snapshot\n",
    "        job = qiskit.execute(qc, backend ,shots=1, memory=True)\n",
    "        result = job.result()\n",
    "        memory = result.get_memory(qc)[0]\n",
    "\n",
    "        # reverse order of bits to loop through for applying M\n",
    "        memory = memory[::-1]\n",
    "\n",
    "        # initialize snapshot tensor\n",
    "        snapshot = 1\n",
    "        for bit in range(len(memory)):\n",
    "\n",
    "            b = bitToVector(memory[bit])\n",
    "            Udg = Udgs[qbases[bit]]\n",
    "            subsnapshot = getSnapshot(b,Udg,1)\n",
    "            snapshot = np.kron(snapshot,subsnapshot)\n",
    "\n",
    "        shadow_pauli += [snapshot]\n",
    "\n",
    "\n",
    "    return shadow_pauli\n",
    "\n"
   ]
  },
  {
   "cell_type": "code",
   "execution_count": 119,
   "metadata": {},
   "outputs": [],
   "source": [
    "shadow_pauli = get_shadow_pauli(ghz,N,n)"
   ]
  },
  {
   "cell_type": "code",
   "execution_count": 121,
   "metadata": {},
   "outputs": [
    {
     "data": {
      "text/plain": [
       "array([[ 1., -0., -0.,  0.],\n",
       "       [-0., -2.,  0.,  0.],\n",
       "       [-0.,  0., -2.,  0.],\n",
       "       [ 0.,  0.,  0.,  4.]])"
      ]
     },
     "execution_count": 121,
     "metadata": {},
     "output_type": "execute_result"
    }
   ],
   "source": [
    "shadow_pauli[0]"
   ]
  },
  {
   "cell_type": "markdown",
   "metadata": {},
   "source": [
    "##### Median of Means Prediction"
   ]
  },
  {
   "cell_type": "markdown",
   "metadata": {},
   "source": [
    "Linear Case"
   ]
  },
  {
   "cell_type": "markdown",
   "metadata": {},
   "source": [
    "We have generated shadows for both full system Cliffords and local Pauli measurements. As a simple example of the median of means protocol, we'll look at fidelity of the state. Since this would be a global variable, local Paulis aren't suited to the task, so we turn to the Clifford shadow. Let's create the estimators of our state."
   ]
  },
  {
   "cell_type": "code",
   "execution_count": 138,
   "metadata": {},
   "outputs": [],
   "source": [
    "def get_estimators(shadow,N,K):\n",
    "    \n",
    "    # split shadow into K equally sized parts\n",
    "    estimators = []\n",
    "    shades = list(chunks(shadow,int(N/K)))\n",
    "\n",
    "    # create estimators\n",
    "    for shade in shades:\n",
    "        estimators += [reduce(np.add,shade)/np.floor(N/K)]\n",
    "        \n",
    "    return estimators"
   ]
  },
  {
   "cell_type": "code",
   "execution_count": 139,
   "metadata": {},
   "outputs": [],
   "source": [
    "shadow = shadow_clifford\n",
    "estimators = get_estimators(shadow,N,K)"
   ]
  },
  {
   "cell_type": "markdown",
   "metadata": {},
   "source": [
    "Now, using the state fidelity function from qiskit, and the simulated statevector from earlier, we can get a prediction of the true fidelity by evaluating the function on each of the estimators and taking the real portion of the median value."
   ]
  },
  {
   "cell_type": "code",
   "execution_count": 146,
   "metadata": {},
   "outputs": [],
   "source": [
    "def get_fidelity_prediction(estimators,psi):\n",
    "    \n",
    "    predictions = [state_fidelity(psi,rho,validate=False) for rho in estimators]\n",
    "    prediction = np.real(np.median(predictions))\n",
    "    \n",
    "    return prediction\n"
   ]
  },
  {
   "cell_type": "code",
   "execution_count": 147,
   "metadata": {},
   "outputs": [
    {
     "data": {
      "text/plain": [
       "0.9999999999999991"
      ]
     },
     "execution_count": 147,
     "metadata": {},
     "output_type": "execute_result"
    }
   ],
   "source": [
    "prediction = get_fidelity_prediction(estimators,psi)\n",
    "prediction"
   ]
  },
  {
   "cell_type": "markdown",
   "metadata": {},
   "source": [
    "The implementation we have here is merely instructive, so is not terribly efficient as we're still storing large matrices. This can be improved significantly as the estimators are sparse. However we can check scaling in a few qubits to check performance holding our number of samples constant. "
   ]
  },
  {
   "cell_type": "code",
   "execution_count": 178,
   "metadata": {},
   "outputs": [
    {
     "name": "stdout",
     "output_type": "stream",
     "text": [
      "2:  0.9999999999999992\n",
      "3:  1.0249999999999977\n",
      "4:  0.9124999999999979\n",
      "5:  0.8562499999999975\n",
      "6:  1.0312499999999964\n",
      "7:  0.8140624999999969\n",
      "8:  1.0078124999999956\n",
      "9:  1.0039062499999947\n"
     ]
    }
   ],
   "source": [
    "nqubits = [i for i in range(2,10,1)]\n",
    "\n",
    "for nq in nqubits:\n",
    "    \n",
    "    # initialize circuit\n",
    "    ghz = QuantumCircuit(nq)\n",
    "\n",
    "    # build circuit\n",
    "    generateGHZ(ghz)\n",
    "\n",
    "    job = qiskit.execute(ghz, Aer.get_backend('statevector_simulator'))\n",
    "    psi = job.result().get_statevector(ghz)\n",
    "    \n",
    "    shadow = get_clifford_shadow(ghz,N,nq)\n",
    "    estimators = get_estimators(shadow,N,K)\n",
    "    prediction = get_fidelity_prediction(estimators,psi)\n",
    "    \n",
    "    print(str(nq)+': ', prediction)"
   ]
  },
  {
   "cell_type": "markdown",
   "metadata": {},
   "source": [
    "Considering we varied nothing except the number of qubits in the system, the performance is decent. Also, values can be greater than 1 as we are using an unphysical estimator: there is a variance around the average, but we can mitigate this by optimizing chunk and sample size through a procedure like grid search. Let's see how the Pauli shadow performs in comparison."
   ]
  },
  {
   "cell_type": "code",
   "execution_count": 177,
   "metadata": {},
   "outputs": [
    {
     "name": "stdout",
     "output_type": "stream",
     "text": [
      "2:  0.9249999999999996\n",
      "3:  1.024999999999999\n",
      "4:  0.8499999999999992\n",
      "5:  0.4531249999999992\n",
      "6:  0.47968749999999916\n",
      "7:  0.2890624999999992\n",
      "8:  0.24296874999999915\n",
      "9:  0.30429687499999886\n"
     ]
    }
   ],
   "source": [
    "nqubits = [i for i in range(2,10,1)]\n",
    "\n",
    "for nq in nqubits:\n",
    "    \n",
    "    # initialize circuit\n",
    "    ghz = QuantumCircuit(nq)\n",
    "\n",
    "    # build circuit\n",
    "    generateGHZ(ghz)\n",
    "\n",
    "    job = qiskit.execute(ghz, Aer.get_backend('statevector_simulator'))\n",
    "    psi = job.result().get_statevector(ghz)\n",
    "    \n",
    "    shadow = get_pauli_shadow(ghz,N,nq)\n",
    "    estimators = get_estimators(shadow,N,K)\n",
    "    prediction = get_fidelity_prediction(estimators,psi)\n",
    "    \n",
    "    print(str(nq)+': ', prediction)"
   ]
  },
  {
   "cell_type": "markdown",
   "metadata": {},
   "source": [
    "As seen above, the prediction fails around a >5 qubit system size. This indicates, as we have guessed, that while the Pauli shadow is easier to compute (both classically and on a quantum computer due to te lack of entangling operations), it is more suited for local subsystem predictions involving just a few qubits. Some useful examples are entanglement entropies and simulation of localized Hamiltonian physics. Of note is that the former is actually a transcendental function of a product of density matrices, so non-linear functions can also be predicted using this method. A continuation of this notebook will cover how this can further be adapted for non-linear prediction. "
   ]
  },
  {
   "cell_type": "markdown",
   "metadata": {},
   "source": [
    "# References"
   ]
  },
  {
   "cell_type": "markdown",
   "metadata": {},
   "source": [
    "[1] S. Aaronson. Shadow Tomography of Quantum States (https://arxiv.org/abs/1711.01053) \n",
    "\n",
    "[2] H. Huang, R. Kueng, J. Preskill (https://arxiv.org/abs/2002.08953)"
   ]
  }
 ],
 "metadata": {
  "kernelspec": {
   "display_name": "Python 3",
   "language": "python",
   "name": "python3"
  },
  "language_info": {
   "codemirror_mode": {
    "name": "ipython",
    "version": 3
   },
   "file_extension": ".py",
   "mimetype": "text/x-python",
   "name": "python",
   "nbconvert_exporter": "python",
   "pygments_lexer": "ipython3",
   "version": "3.7.7"
  }
 },
 "nbformat": 4,
 "nbformat_minor": 4
}
